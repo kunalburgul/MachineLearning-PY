{
  "nbformat": 4,
  "nbformat_minor": 0,
  "metadata": {
    "colab": {
      "name": "Linear Regression Intro.ipynb",
      "provenance": [],
      "collapsed_sections": [],
      "include_colab_link": true
    },
    "kernelspec": {
      "name": "python3",
      "display_name": "Python 3"
    }
  },
  "cells": [
    {
      "cell_type": "markdown",
      "metadata": {
        "id": "view-in-github",
        "colab_type": "text"
      },
      "source": [
        "<a href=\"https://colab.research.google.com/github/pymacbit/MachineLearning-PY/blob/master/Regression%20/Linear%20Regression/Linear_Regression_Intro.ipynb\" target=\"_parent\"><img src=\"https://colab.research.google.com/assets/colab-badge.svg\" alt=\"Open In Colab\"/></a>"
      ]
    },
    {
      "cell_type": "markdown",
      "metadata": {
        "id": "hZ6MH8aNWKUb",
        "colab_type": "text"
      },
      "source": [
        "## 1. **Linear Regression**\n",
        "\n",
        "- In statistics, linear regression is a linear approach to modelling the relationship between a dependent variable and one or more independent variables. \n",
        "\n",
        "- Here, we establish relationship between independent and dependent variables by fitting a best line. This best fit line is known as regression line and represented by a linear equation \n",
        "       Y=m*X+b\n",
        "\n",
        "- In this equation:\n",
        "      Y – Dependent/op Variable \n",
        "      m – Slope\n",
        "      X – Independent/ip variable\n",
        "      b – Intercept\n",
        "\n",
        "- In Linear Regression, the relationship between the input variables (x) and output variable (y) is expressed as an equation of the form y = mx + b. Thus, the goal of linear regression is to find out the values of coefficients m and b. Here, m is the intercept and b is the slope of the line.\n",
        "\n",
        "- These coefficients m and b are derived based on minimizing the sum of squared difference of distance between data points and regression line.\n"
      ]
    },
    {
      "cell_type": "markdown",
      "metadata": {
        "id": "wqBIaYMRk220",
        "colab_type": "text"
      },
      "source": [
        "![alt text](https://drive.google.com/uc?id=1AT798OKqf7c6Sf0G9b-29b4Kvhngc0cn)\n",
        "\n",
        "- This figure shows the plotted x and y values for a data set. The goal is to fit a line that is nearest to most of the points. This would reduce the distance (‘error’) between the y value of a data point and the line."
      ]
    },
    {
      "cell_type": "markdown",
      "metadata": {
        "id": "voZrcE2ilX1N",
        "colab_type": "text"
      },
      "source": [
        "### **Example** \n",
        "\n",
        "The best way to understand linear regression is to relive this experience of childhood. Let us say, you ask a child in fifth grade to arrange people in his class by increasing order of weight, without asking them their weights! \n",
        "\n",
        "What do you think the child will do? \n",
        "\n",
        "He / she would likely look (visually analyze) at the height and build of people and arrange them using a combination of these visible parameters. This is linear regression in real life! The child has actually figured out that height and build would be correlated to the weight by a relationship, which looks like the equation above."
      ]
    },
    {
      "cell_type": "markdown",
      "metadata": {
        "id": "09kXmAlal132",
        "colab_type": "text"
      },
      "source": [
        "### **Types** \n",
        "\n",
        "Linear Regression is mainly of two types: **Simple Linear Regression** and **Multiple Linear Regression**. \n",
        "\n",
        "- Simple Linear Regression is characterized by one independent variable. And, Multiple Linear Regression(as the name suggests) is characterized by multiple (more than 1) independent variables. While finding the best fit line, you can fit a polynomial or curvilinear regression. And these are known as polynomial or curvilinear regression."
      ]
    }
  ]
}