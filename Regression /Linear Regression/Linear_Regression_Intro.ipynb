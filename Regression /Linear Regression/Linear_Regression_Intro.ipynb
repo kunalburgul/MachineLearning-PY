{
  "nbformat": 4,
  "nbformat_minor": 0,
  "metadata": {
    "colab": {
      "name": "Linear Regression Intro.ipynb",
      "provenance": [],
      "include_colab_link": true
    },
    "kernelspec": {
      "name": "python3",
      "display_name": "Python 3"
    }
  },
  "cells": [
    {
      "cell_type": "markdown",
      "metadata": {
        "id": "view-in-github",
        "colab_type": "text"
      },
      "source": [
        "<a href=\"https://colab.research.google.com/github/pymacbit/MachineLearning-PY/blob/master/Linear_Regression_Intro.ipynb\" target=\"_parent\"><img src=\"https://colab.research.google.com/assets/colab-badge.svg\" alt=\"Open In Colab\"/></a>"
      ]
    },
    {
      "cell_type": "markdown",
      "metadata": {
        "id": "hZ6MH8aNWKUb",
        "colab_type": "text"
      },
      "source": [
        "### 1. Linear Regression\n",
        "\n",
        "In statistics, linear regression is a linear approach to modelling the relationship between a dependent variable and one or more independent variables. \n",
        "\n",
        "## Begin with the Problem Statement\n",
        "\n",
        "Suppose ! You just got some contract work with an Ecommerce company that sells clothing online but they also have in-store style and clothing advice sessions. Customers come in to the store, have sessions/meetings with a personal stylist, then they can go home and order either on a mobile app or website for the clothes they want.The company is trying to decide whether to focus their efforts on their mobile app experience or their website. They've hired you on contract to help them figure it out! \n",
        "\n",
        "-----------------------------------------------\n",
        "\n",
        "Let's get started! Just follow the steps below to analyze the customer data."
      ]
    }
  ]
}