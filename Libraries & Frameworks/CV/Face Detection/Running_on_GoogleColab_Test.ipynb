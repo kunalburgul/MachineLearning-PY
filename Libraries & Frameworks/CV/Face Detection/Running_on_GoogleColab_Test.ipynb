{
  "nbformat": 4,
  "nbformat_minor": 0,
  "metadata": {
    "colab": {
      "name": "Running on GoogleColab Test.ipynb",
      "provenance": [],
      "collapsed_sections": [],
      "include_colab_link": true
    },
    "kernelspec": {
      "name": "python3",
      "display_name": "Python 3"
    }
  },
  "cells": [
    {
      "cell_type": "markdown",
      "metadata": {
        "id": "view-in-github",
        "colab_type": "text"
      },
      "source": [
        "<a href=\"https://colab.research.google.com/github/pymacbit/FaceDetection-Harcascade/blob/master/Running_on_GoogleColab_Test.ipynb\" target=\"_parent\"><img src=\"https://colab.research.google.com/assets/colab-badge.svg\" alt=\"Open In Colab\"/></a>"
      ]
    },
    {
      "cell_type": "code",
      "metadata": {
        "id": "ecDgR4g4b0Nk",
        "colab_type": "code",
        "colab": {
          "base_uri": "https://localhost:8080/",
          "height": 122
        },
        "outputId": "9aaff129-1049-487a-ba29-a3981e17f6f5"
      },
      "source": [
        "from google.colab import drive\n",
        "drive.mount('/content/gdrive')\n"
      ],
      "execution_count": 2,
      "outputs": [
        {
          "output_type": "stream",
          "text": [
            "Go to this URL in a browser: https://accounts.google.com/o/oauth2/auth?client_id=947318989803-6bn6qk8qdgf4n4g3pfee6491hc0brc4i.apps.googleusercontent.com&redirect_uri=urn%3aietf%3awg%3aoauth%3a2.0%3aoob&response_type=code&scope=email%20https%3a%2f%2fwww.googleapis.com%2fauth%2fdocs.test%20https%3a%2f%2fwww.googleapis.com%2fauth%2fdrive%20https%3a%2f%2fwww.googleapis.com%2fauth%2fdrive.photos.readonly%20https%3a%2f%2fwww.googleapis.com%2fauth%2fpeopleapi.readonly\n",
            "\n",
            "Enter your authorization code:\n",
            "··········\n",
            "Mounted at /content/gdrive\n"
          ],
          "name": "stdout"
        }
      ]
    },
    {
      "cell_type": "code",
      "metadata": {
        "id": "u9Eu0S7GcRmN",
        "colab_type": "code",
        "colab": {
          "base_uri": "https://localhost:8080/",
          "height": 34
        },
        "outputId": "21554ca0-9901-4c77-db36-5e2ab43657b7"
      },
      "source": [
        "!ls\n"
      ],
      "execution_count": 3,
      "outputs": [
        {
          "output_type": "stream",
          "text": [
            "gdrive\tsample_data\n"
          ],
          "name": "stdout"
        }
      ]
    },
    {
      "cell_type": "code",
      "metadata": {
        "id": "jG0nRrXfcrjo",
        "colab_type": "code",
        "colab": {
          "base_uri": "https://localhost:8080/",
          "height": 34
        },
        "outputId": "13a223d2-15de-4027-8b8c-d59f6864848b"
      },
      "source": [
        "%cd gdrive/My Drive"
      ],
      "execution_count": 5,
      "outputs": [
        {
          "output_type": "stream",
          "text": [
            "/content/gdrive/My Drive\n"
          ],
          "name": "stdout"
        }
      ]
    },
    {
      "cell_type": "code",
      "metadata": {
        "id": "5LB2vGWnc2-w",
        "colab_type": "code",
        "colab": {
          "base_uri": "https://localhost:8080/",
          "height": 714
        },
        "outputId": "84d289ed-edba-449f-92d1-06c129df0864"
      },
      "source": [
        "!ls"
      ],
      "execution_count": 6,
      "outputs": [
        {
          "output_type": "stream",
          "text": [
            "'Blitzstein Hwang Probability.pdf'\n",
            " Certificates\n",
            "'Colab Notebooks'\n",
            "'Company List.gsheet'\n",
            "'Copy of addToTools.gscript'\n",
            "'Copy of Employee Onboarding App.gscript'\n",
            "'Cover Letter.gdoc'\n",
            " Data_Scientist_Competency_Matrix.gsheet\n",
            " dataset\n",
            " Demo.gdoc\n",
            " Demo.gsheet\n",
            " Documents\n",
            " Documents.pdf\n",
            "'EOA Demo.gsheet'\n",
            " Face\n",
            " FaceRec.gslides\n",
            "'Google Colab code Handbook .gdoc'\n",
            " Kunal\n",
            "'Last day of college'\n",
            " MachinesOnRent\n",
            " MangoBlogger\n",
            " MangoBlogger.gsheet\n",
            "'MangoBlogger NDA.gdoc'\n",
            "'MangoBlogger NDA.pdf'\n",
            "'Mangoblogger - Product Marketing Task.gsheet'\n",
            " MindWork.gdoc\n",
            "'MLCC, RAIPUR'\n",
            " ML_Dataset\n",
            "'ML Hack.gdoc'\n",
            "'ML Interview Prep.gdoc'\n",
            "'Model Test.gsheet'\n",
            "'Pithora Construction.gsheet'\n",
            "'SEOMango Demo.gsheet'\n",
            " Signed_MangoBlogger_NDA.pdf\n",
            " Signed_Offer_Letter_for_Yatindra.pdf\n",
            " singnature.gdoc\n",
            "'Teachers Day Anchoring Script In Hindi PDF.gdoc'\n",
            " Thesis.pdf\n",
            "'Untitled spreadsheet (1).gsheet'\n",
            "'Untitled spreadsheet.gsheet'\n",
            " Work.gdoc\n"
          ],
          "name": "stdout"
        }
      ]
    },
    {
      "cell_type": "code",
      "metadata": {
        "id": "CkA9K0UedBhm",
        "colab_type": "code",
        "colab": {
          "base_uri": "https://localhost:8080/",
          "height": 34
        },
        "outputId": "78aced81-6eb3-4462-ae30-5a174f502023"
      },
      "source": [
        "%cd Face"
      ],
      "execution_count": 7,
      "outputs": [
        {
          "output_type": "stream",
          "text": [
            "/content/gdrive/My Drive/Face\n"
          ],
          "name": "stdout"
        }
      ]
    },
    {
      "cell_type": "code",
      "metadata": {
        "id": "KcIySmyLdFa8",
        "colab_type": "code",
        "colab": {
          "base_uri": "https://localhost:8080/",
          "height": 119
        },
        "outputId": "59de58ab-97c5-4a88-eb11-1371e60e2454"
      },
      "source": [
        "! git clone https://github.com/pymacbit/FaceDetection-Harcascade"
      ],
      "execution_count": 8,
      "outputs": [
        {
          "output_type": "stream",
          "text": [
            "Cloning into 'FaceDetection-Harcascade'...\n",
            "remote: Enumerating objects: 9, done.\u001b[K\n",
            "remote: Counting objects: 100% (9/9), done.\u001b[K\n",
            "remote: Compressing objects: 100% (6/6), done.\u001b[K\n",
            "remote: Total 9 (delta 2), reused 9 (delta 2), pack-reused 0\u001b[K\n",
            "Unpacking objects: 100% (9/9), done.\n"
          ],
          "name": "stdout"
        }
      ]
    },
    {
      "cell_type": "code",
      "metadata": {
        "id": "mUwTkBG2dUW8",
        "colab_type": "code",
        "colab": {
          "base_uri": "https://localhost:8080/",
          "height": 34
        },
        "outputId": "45cb9842-1255-4019-8213-78f9197e4d9b"
      },
      "source": [
        "!ls"
      ],
      "execution_count": 9,
      "outputs": [
        {
          "output_type": "stream",
          "text": [
            "FaceDetection-Harcascade\n"
          ],
          "name": "stdout"
        }
      ]
    },
    {
      "cell_type": "code",
      "metadata": {
        "id": "jBuR8um4dXvb",
        "colab_type": "code",
        "colab": {
          "base_uri": "https://localhost:8080/",
          "height": 34
        },
        "outputId": "ed9aa251-c047-4516-9a28-4d138fc5cf80"
      },
      "source": [
        "%cd FaceDetection-Harcascade"
      ],
      "execution_count": 10,
      "outputs": [
        {
          "output_type": "stream",
          "text": [
            "/content/gdrive/My Drive/Face/FaceDetection-Harcascade\n"
          ],
          "name": "stdout"
        }
      ]
    },
    {
      "cell_type": "code",
      "metadata": {
        "id": "w9uQkNe-dimi",
        "colab_type": "code",
        "colab": {
          "base_uri": "https://localhost:8080/",
          "height": 51
        },
        "outputId": "ad60ec44-379e-4638-c34e-4f8e67416cd1"
      },
      "source": [
        "!ls"
      ],
      "execution_count": 11,
      "outputs": [
        {
          "output_type": "stream",
          "text": [
            "Code.py\t\t     haarcascade_frontalface_default.xml\n",
            "haarcascade_eye.xml  haarcascade_smile.xml\n"
          ],
          "name": "stdout"
        }
      ]
    },
    {
      "cell_type": "code",
      "metadata": {
        "id": "3R7j5y_Gdjw9",
        "colab_type": "code",
        "colab": {
          "base_uri": "https://localhost:8080/",
          "height": 139
        },
        "outputId": "e5bfc136-9f1b-48bf-ccd4-45d3729c3f0c"
      },
      "source": [
        "! python Code.py\n"
      ],
      "execution_count": 12,
      "outputs": [
        {
          "output_type": "stream",
          "text": [
            "[ WARN:0] global /io/opencv/modules/videoio/src/cap_v4l.cpp (802) open VIDEOIO ERROR: V4L: can't open camera by index 0\n",
            "Traceback (most recent call last):\n",
            "  File \"Code.py\", line 28, in <module>\n",
            "    gray = cv2.cvtColor(frame, cv2.COLOR_BGR2GRAY)\n",
            "cv2.error: OpenCV(4.1.2) /io/opencv/modules/imgproc/src/color.cpp:182: error: (-215:Assertion failed) !_src.empty() in function 'cvtColor'\n",
            "\n"
          ],
          "name": "stdout"
        }
      ]
    },
    {
      "cell_type": "code",
      "metadata": {
        "id": "QS835WIYdpbr",
        "colab_type": "code",
        "colab": {}
      },
      "source": [
        ""
      ],
      "execution_count": 0,
      "outputs": []
    }
  ]
}