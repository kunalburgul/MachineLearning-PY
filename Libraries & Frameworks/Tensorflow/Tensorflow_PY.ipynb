{
  "nbformat": 4,
  "nbformat_minor": 0,
  "metadata": {
    "colab": {
      "name": "Tensorflow - PY.ipynb",
      "provenance": [],
      "collapsed_sections": [],
      "include_colab_link": true
    },
    "kernelspec": {
      "name": "python3",
      "display_name": "Python 3"
    }
  },
  "cells": [
    {
      "cell_type": "markdown",
      "metadata": {
        "id": "view-in-github",
        "colab_type": "text"
      },
      "source": [
        "<a href=\"https://colab.research.google.com/github/pymacbit/python-ML-Libraries-cheatsheet/blob/master/Tensorflow_PY.ipynb\" target=\"_parent\"><img src=\"https://colab.research.google.com/assets/colab-badge.svg\" alt=\"Open In Colab\"/></a>"
      ]
    },
    {
      "cell_type": "code",
      "metadata": {
        "id": "riyKbFRRB6ca",
        "colab_type": "code",
        "colab": {}
      },
      "source": [
        "# Start with importing library \n",
        "\n",
        "import tensorflow as tf"
      ],
      "execution_count": 0,
      "outputs": []
    },
    {
      "cell_type": "markdown",
      "metadata": {
        "id": "yxlej-snCnp0",
        "colab_type": "text"
      },
      "source": [
        "### Simple Constants\n",
        "\n",
        "Let's show how to create a simple constant with Tensorflow, which TF stores as a tensor object:"
      ]
    },
    {
      "cell_type": "code",
      "metadata": {
        "id": "IrhUun3qCP0_",
        "colab_type": "code",
        "colab": {}
      },
      "source": [
        "hello = tf.constant('hello world')"
      ],
      "execution_count": 0,
      "outputs": []
    },
    {
      "cell_type": "code",
      "metadata": {
        "id": "IxRkykXaCxPl",
        "colab_type": "code",
        "outputId": "735e96f8-4bb2-4165-d796-7c02636e9e4f",
        "colab": {
          "base_uri": "https://localhost:8080/",
          "height": 34
        }
      },
      "source": [
        "type(hello)"
      ],
      "execution_count": 0,
      "outputs": [
        {
          "output_type": "execute_result",
          "data": {
            "text/plain": [
              "tensorflow.python.framework.ops.Tensor"
            ]
          },
          "metadata": {
            "tags": []
          },
          "execution_count": 23
        }
      ]
    },
    {
      "cell_type": "code",
      "metadata": {
        "id": "MEmm90VGCy6t",
        "colab_type": "code",
        "colab": {}
      },
      "source": [
        "x = tf.constant(100)"
      ],
      "execution_count": 0,
      "outputs": []
    },
    {
      "cell_type": "code",
      "metadata": {
        "id": "ZTLMZ0DwC1ge",
        "colab_type": "code",
        "outputId": "e918006d-f992-4323-ddac-7785041c57ee",
        "colab": {
          "base_uri": "https://localhost:8080/",
          "height": 34
        }
      },
      "source": [
        "type(x)"
      ],
      "execution_count": 0,
      "outputs": [
        {
          "output_type": "execute_result",
          "data": {
            "text/plain": [
              "tensorflow.python.framework.ops.Tensor"
            ]
          },
          "metadata": {
            "tags": []
          },
          "execution_count": 25
        }
      ]
    },
    {
      "cell_type": "markdown",
      "metadata": {
        "id": "uRv8S7q-C859",
        "colab_type": "text"
      },
      "source": [
        "### Running Sessions\n",
        "\n",
        "Now you can create a TensorFlow Session, which is a class for running TensorFlow operations.\n",
        "\n",
        "A `Session` object encapsulates the environment in which `Operation`\n",
        "objects are executed, and `Tensor` objects are evaluated. For example:"
      ]
    },
    {
      "cell_type": "code",
      "metadata": {
        "id": "Ca3k95dmC2lV",
        "colab_type": "code",
        "colab": {}
      },
      "source": [
        "sess = tf.Session()\n"
      ],
      "execution_count": 0,
      "outputs": []
    },
    {
      "cell_type": "code",
      "metadata": {
        "id": "Ujfba9iFDECf",
        "colab_type": "code",
        "outputId": "dac276aa-3808-4eae-9443-3e5a27075dca",
        "colab": {
          "base_uri": "https://localhost:8080/",
          "height": 34
        }
      },
      "source": [
        "sess.run(hello)"
      ],
      "execution_count": 0,
      "outputs": [
        {
          "output_type": "execute_result",
          "data": {
            "text/plain": [
              "b'hello world'"
            ]
          },
          "metadata": {
            "tags": []
          },
          "execution_count": 27
        }
      ]
    },
    {
      "cell_type": "code",
      "metadata": {
        "id": "20nFQi82DMQw",
        "colab_type": "code",
        "outputId": "c44ddf00-e85d-4b03-9db1-6b44e2fd3954",
        "colab": {
          "base_uri": "https://localhost:8080/",
          "height": 34
        }
      },
      "source": [
        "type(sess.run(hello))"
      ],
      "execution_count": 0,
      "outputs": [
        {
          "output_type": "execute_result",
          "data": {
            "text/plain": [
              "bytes"
            ]
          },
          "metadata": {
            "tags": []
          },
          "execution_count": 28
        }
      ]
    },
    {
      "cell_type": "code",
      "metadata": {
        "id": "sj1MLsB3DPop",
        "colab_type": "code",
        "outputId": "0cdcfecb-1051-4177-9dbd-b5fc10e1fb9d",
        "colab": {
          "base_uri": "https://localhost:8080/",
          "height": 34
        }
      },
      "source": [
        "sess.run(x)"
      ],
      "execution_count": 0,
      "outputs": [
        {
          "output_type": "execute_result",
          "data": {
            "text/plain": [
              "100"
            ]
          },
          "metadata": {
            "tags": []
          },
          "execution_count": 29
        }
      ]
    },
    {
      "cell_type": "code",
      "metadata": {
        "id": "8jYXaBzODSSy",
        "colab_type": "code",
        "outputId": "62632116-66a1-45b1-e6f2-d52beb3e12ed",
        "colab": {
          "base_uri": "https://localhost:8080/",
          "height": 34
        }
      },
      "source": [
        "type(sess.run(x))"
      ],
      "execution_count": 0,
      "outputs": [
        {
          "output_type": "execute_result",
          "data": {
            "text/plain": [
              "numpy.int32"
            ]
          },
          "metadata": {
            "tags": []
          },
          "execution_count": 30
        }
      ]
    },
    {
      "cell_type": "markdown",
      "metadata": {
        "id": "SzXiVEq2DYHF",
        "colab_type": "text"
      },
      "source": [
        "## Operations\n",
        "\n",
        "You can line up multiple Tensorflow operations in to be run during a session:"
      ]
    },
    {
      "cell_type": "code",
      "metadata": {
        "id": "pzilurvcDU0J",
        "colab_type": "code",
        "colab": {}
      },
      "source": [
        "x = tf.constant(2)\n",
        "y = tf.constant(3)"
      ],
      "execution_count": 0,
      "outputs": []
    },
    {
      "cell_type": "code",
      "metadata": {
        "id": "NbxkAVpgDaxB",
        "colab_type": "code",
        "outputId": "166373e1-78e4-46a4-fab4-b943b22ce9cd",
        "colab": {
          "base_uri": "https://localhost:8080/",
          "height": 102
        }
      },
      "source": [
        "with tf.Session() as sess:\n",
        "    print('Operations with Constants')\n",
        "    print('Addition',sess.run(x+y))\n",
        "    print('Subtraction',sess.run(x-y))\n",
        "    print('Multiplication',sess.run(x*y))\n",
        "    print('Division',sess.run(x/y))"
      ],
      "execution_count": 0,
      "outputs": [
        {
          "output_type": "stream",
          "text": [
            "Operations with Constants\n",
            "Addition 5\n",
            "Subtraction -1\n",
            "Multiplication 6\n",
            "Division 0.6666666666666666\n"
          ],
          "name": "stdout"
        }
      ]
    },
    {
      "cell_type": "markdown",
      "metadata": {
        "id": "ntAXcTerDetx",
        "colab_type": "text"
      },
      "source": [
        "#### Placeholder\n",
        "\n",
        "You may not always have the constants right away, and you may be waiting for a constant to appear after a cycle of operations. **tf.placeholder** is a tool for this. It inserts a placeholder for a tensor that will be always fed.\n",
        "\n",
        "**Important**: This tensor will produce an error if evaluated. Its value must be fed using the `feed_dict` optional argument to `Session.run()`,\n",
        "`Tensor.eval()`, or `Operation.run()`. For example, for a placeholder of a matrix of floating point numbers:\n",
        "\n",
        "    x = tf.placeholder(tf.float32, shape=(1024, 1024))\n",
        "\n",
        "Here is an example for integer placeholders:"
      ]
    },
    {
      "cell_type": "code",
      "metadata": {
        "id": "W3j6V1GdDcda",
        "colab_type": "code",
        "colab": {}
      },
      "source": [
        "x = tf.placeholder(tf.int32)\n",
        "y = tf.placeholder(tf.int32)"
      ],
      "execution_count": 0,
      "outputs": []
    },
    {
      "cell_type": "code",
      "metadata": {
        "id": "r4IIPTrgDhG4",
        "colab_type": "code",
        "outputId": "28ecc50a-0560-4be7-91a9-31d4a81d01eb",
        "colab": {
          "base_uri": "https://localhost:8080/",
          "height": 34
        }
      },
      "source": [
        "x"
      ],
      "execution_count": 0,
      "outputs": [
        {
          "output_type": "execute_result",
          "data": {
            "text/plain": [
              "<tf.Tensor 'Placeholder_2:0' shape=<unknown> dtype=int32>"
            ]
          },
          "metadata": {
            "tags": []
          },
          "execution_count": 34
        }
      ]
    },
    {
      "cell_type": "code",
      "metadata": {
        "id": "KjhEYCvCDh9y",
        "colab_type": "code",
        "outputId": "9e4cf57e-7ffc-4eab-e39e-89f9ee681826",
        "colab": {
          "base_uri": "https://localhost:8080/",
          "height": 34
        }
      },
      "source": [
        "type(x)"
      ],
      "execution_count": 0,
      "outputs": [
        {
          "output_type": "execute_result",
          "data": {
            "text/plain": [
              "tensorflow.python.framework.ops.Tensor"
            ]
          },
          "metadata": {
            "tags": []
          },
          "execution_count": 35
        }
      ]
    },
    {
      "cell_type": "code",
      "metadata": {
        "id": "Efj-ELUWDjkD",
        "colab_type": "code",
        "colab": {}
      },
      "source": [
        "# Defining Operations\n",
        "\n",
        "Add = tf.add(x,y)\n"
      ],
      "execution_count": 0,
      "outputs": []
    },
    {
      "cell_type": "code",
      "metadata": {
        "id": "ThneJCfpDoE4",
        "colab_type": "code",
        "outputId": "27e675eb-3392-42b6-81ae-9ea01b4928f7",
        "colab": {
          "base_uri": "https://localhost:8080/",
          "height": 51
        }
      },
      "source": [
        "# Running operations with variable input:\n",
        "\n",
        "d = {x:20,y:30}\n",
        "\n",
        "with tf.Session() as sess:\n",
        "    print('Operations with Constants')\n",
        "    print('Addition',sess.run(add,feed_dict=d))\n"
      ],
      "execution_count": 0,
      "outputs": [
        {
          "output_type": "stream",
          "text": [
            "Operations with Constants\n",
            "Addition 50\n"
          ],
          "name": "stdout"
        }
      ]
    },
    {
      "cell_type": "code",
      "metadata": {
        "id": "8vqjDGG5EqIv",
        "colab_type": "code",
        "colab": {}
      },
      "source": [
        "# Now let's see an example of a more complex operation, using Matrix Multiplication. \n",
        "# First we need to create the matrices:\n",
        "\n",
        "import numpy as np\n",
        "# Make sure to use floats here, int64 will cause an error.\n",
        "a = np.array([[5.0,5.0]])\n",
        "b = np.array([[2.0],[2.0]])"
      ],
      "execution_count": 0,
      "outputs": []
    },
    {
      "cell_type": "code",
      "metadata": {
        "id": "nPB34GZmE4vA",
        "colab_type": "code",
        "outputId": "28c42934-67ec-4b5e-8daa-eb55d17a5df0",
        "colab": {
          "base_uri": "https://localhost:8080/",
          "height": 34
        }
      },
      "source": [
        "a"
      ],
      "execution_count": 0,
      "outputs": [
        {
          "output_type": "execute_result",
          "data": {
            "text/plain": [
              "array([[5., 5.]])"
            ]
          },
          "metadata": {
            "tags": []
          },
          "execution_count": 44
        }
      ]
    },
    {
      "cell_type": "code",
      "metadata": {
        "id": "iW-14yVSE_6d",
        "colab_type": "code",
        "outputId": "9e568f7d-fca3-48a9-8176-b8259601719c",
        "colab": {
          "base_uri": "https://localhost:8080/",
          "height": 51
        }
      },
      "source": [
        "b"
      ],
      "execution_count": 0,
      "outputs": [
        {
          "output_type": "execute_result",
          "data": {
            "text/plain": [
              "array([[2.],\n",
              "       [2.]])"
            ]
          },
          "metadata": {
            "tags": []
          },
          "execution_count": 45
        }
      ]
    },
    {
      "cell_type": "code",
      "metadata": {
        "id": "mVt_ShVfFAuw",
        "colab_type": "code",
        "outputId": "99cee179-9a75-4374-941f-fd9e65ce753f",
        "colab": {
          "base_uri": "https://localhost:8080/",
          "height": 34
        }
      },
      "source": [
        "a.shape"
      ],
      "execution_count": 0,
      "outputs": [
        {
          "output_type": "execute_result",
          "data": {
            "text/plain": [
              "(1, 2)"
            ]
          },
          "metadata": {
            "tags": []
          },
          "execution_count": 46
        }
      ]
    },
    {
      "cell_type": "code",
      "metadata": {
        "id": "_lV3yyPbFCLB",
        "colab_type": "code",
        "outputId": "2973f548-fda6-4036-c7d7-5776b336e29a",
        "colab": {
          "base_uri": "https://localhost:8080/",
          "height": 34
        }
      },
      "source": [
        "b.shape"
      ],
      "execution_count": 0,
      "outputs": [
        {
          "output_type": "execute_result",
          "data": {
            "text/plain": [
              "(2, 1)"
            ]
          },
          "metadata": {
            "tags": []
          },
          "execution_count": 47
        }
      ]
    },
    {
      "cell_type": "code",
      "metadata": {
        "id": "I-QZUvU4FDW6",
        "colab_type": "code",
        "outputId": "96e41371-4448-4f85-91f3-3d1d30216b37",
        "colab": {
          "base_uri": "https://localhost:8080/",
          "height": 34
        }
      },
      "source": [
        "mat1 = tf.constant(a)\n",
        "mat2 = tf.constant(b)\n",
        "\n",
        "matrix_multi = tf.matmul(mat1,mat2)\n",
        "\n",
        "with tf.Session() as sess:\n",
        "    result = sess.run(matrix_multi)\n",
        "    print(result)"
      ],
      "execution_count": 0,
      "outputs": [
        {
          "output_type": "stream",
          "text": [
            "[[20.]]\n"
          ],
          "name": "stdout"
        }
      ]
    },
    {
      "cell_type": "code",
      "metadata": {
        "id": "spTLQE6nFKuV",
        "colab_type": "code",
        "colab": {}
      },
      "source": [
        ""
      ],
      "execution_count": 0,
      "outputs": []
    }
  ]
}