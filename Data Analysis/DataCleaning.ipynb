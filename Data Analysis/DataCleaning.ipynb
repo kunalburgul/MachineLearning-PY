{
  "cells": [
    {
      "cell_type": "markdown",
      "source": [
        "# Data Cleaning \n",
        "\n"
      ],
      "metadata": {
        "collapsed": false,
        "outputHidden": false,
        "inputHidden": false
      }
    },
    {
      "cell_type": "markdown",
      "source": [
        "## StringRemoval "
      ],
      "metadata": {}
    },
    {
      "cell_type": "code",
      "source": [
        "## methods to remove the ‘$’\n",
        "\n",
        "# %timeit df.state_bottle_retail.apply(lambda x: x.replace('$',''))\n",
        "\n",
        "# %timeit df.state_bottle_retail.apply(lambda x: x.strip('$'))\n",
        "\n",
        "# %timeit [x.strip('$') for x in df.state_bottle_retail]\n",
        "\n\n",
        "# %timeit [x[1:] for x in df.state_bottle_retail]\n",
        "\n",
        "# df.state_bottle_retail = [x.strip('$') for x in df.state_bottle_retail]\n",
        "\n",
        "# np.fromstring(df.state_bottle_retail.values.astype('|S7').tobytes().replace(b'$',b''), dtype='|S6')\n",
        "\n\n"
      ],
      "outputs": [],
      "execution_count": 2,
      "metadata": {
        "collapsed": false,
        "outputHidden": false,
        "inputHidden": false
      }
    },
    {
      "cell_type": "code",
      "source": [],
      "outputs": [],
      "execution_count": null,
      "metadata": {
        "collapsed": false,
        "outputHidden": false,
        "inputHidden": false
      }
    }
  ],
  "metadata": {
    "kernel_info": {
      "name": "python3"
    },
    "language_info": {
      "name": "python",
      "version": "3.6.8",
      "mimetype": "text/x-python",
      "codemirror_mode": {
        "name": "ipython",
        "version": 3
      },
      "pygments_lexer": "ipython3",
      "nbconvert_exporter": "python",
      "file_extension": ".py"
    },
    "kernelspec": {
      "name": "python3",
      "language": "python",
      "display_name": "Python 3"
    },
    "nteract": {
      "version": "0.12.3"
    }
  },
  "nbformat": 4,
  "nbformat_minor": 4
}